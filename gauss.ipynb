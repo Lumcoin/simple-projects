{
 "cells": [
  {
   "attachments": {},
   "cell_type": "markdown",
   "metadata": {},
   "source": [
    "# Gauss algorithm"
   ]
  },
  {
   "cell_type": "code",
   "execution_count": 22,
   "metadata": {},
   "outputs": [],
   "source": [
    "# apply gauss algorithm to a matrix\n",
    "def gauss(matrix):\n",
    "    height = len(matrix)\n",
    "    width = len(matrix[0])\n",
    "\n",
    "    work_row = 0\n",
    "    work_column = 0\n",
    "    while work_column < width:\n",
    "\n",
    "        new_row = -1\n",
    "        for row in range(work_row, height):\n",
    "            if matrix[row][work_column] != 0:\n",
    "                new_row = row\n",
    "                break\n",
    "        \n",
    "        # control if new_row was found\n",
    "        if new_row != -1:\n",
    "            if new_row != work_row:\n",
    "                matrix[new_row], matrix[work_row] = matrix[work_row], matrix[new_row]\n",
    "\n",
    "            pivot = matrix[work_row][work_column]\n",
    "\n",
    "            for row in range(work_row + 1, height):\n",
    "                scalar = matrix[row][work_column] / pivot\n",
    "                for column in range(work_column, width):\n",
    "                    matrix[row][column] -= int(scalar * matrix[work_row][column])\n",
    "\n",
    "            work_row += 1\n",
    "        \n",
    "        work_column += 1\n",
    "    \n",
    "    return matrix"
   ]
  },
  {
   "cell_type": "code",
   "execution_count": 23,
   "metadata": {},
   "outputs": [],
   "source": [
    "matrix_in = [[1, 2, 0, 1],\n",
    "             [1, 2, 2, 3],\n",
    "             [4, 8, 2, 6],\n",
    "             [3, 6, 4, 8]]\n",
    "matrix_out = [[1, 2, 0, 1],\n",
    "              [0, 0, 2, 2],\n",
    "              [0, 0, 0, 1],\n",
    "              [0, 0, 0, 0]]\n",
    "\n",
    "assert gauss(matrix_in) == matrix_out"
   ]
  }
 ],
 "metadata": {
  "kernelspec": {
   "display_name": "Python 3",
   "language": "python",
   "name": "python3"
  },
  "language_info": {
   "codemirror_mode": {
    "name": "ipython",
    "version": 3
   },
   "file_extension": ".py",
   "mimetype": "text/x-python",
   "name": "python",
   "nbconvert_exporter": "python",
   "pygments_lexer": "ipython3",
   "version": "3.11.0"
  },
  "orig_nbformat": 4,
  "vscode": {
   "interpreter": {
    "hash": "a08771961f4b74f79656a974d6119f144c3644f26754cfc2aab5f8ba104e64b8"
   }
  }
 },
 "nbformat": 4,
 "nbformat_minor": 2
}
