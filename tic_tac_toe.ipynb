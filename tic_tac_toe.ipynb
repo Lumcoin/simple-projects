{
 "cells": [
  {
   "attachments": {},
   "cell_type": "markdown",
   "metadata": {},
   "source": [
    "# Tic Tac Toe\n",
    "Alpha-Beta Search"
   ]
  },
  {
   "cell_type": "code",
   "execution_count": 8,
   "metadata": {},
   "outputs": [
    {
     "ename": "SyntaxError",
     "evalue": "invalid syntax (3730354945.py, line 16)",
     "output_type": "error",
     "traceback": [
      "\u001b[1;36m  Cell \u001b[1;32mIn[8], line 16\u001b[1;36m\u001b[0m\n\u001b[1;33m    min_count =\u001b[0m\n\u001b[1;37m                ^\u001b[0m\n\u001b[1;31mSyntaxError\u001b[0m\u001b[1;31m:\u001b[0m invalid syntax\n"
     ]
    }
   ],
   "source": [
    "class Game():\n",
    "    player_max = 'Max'\n",
    "    player_min = 'Min'\n",
    "    player_none = 'None'\n",
    "\n",
    "    def __init__(self):\n",
    "        self.state = [[self.player_none] * 3,\n",
    "                      [self.player_none] * 3,\n",
    "                      [self.player_none] * 3]\n",
    "\n",
    "    def __repr__(self):\n",
    "        output = ''\n",
    "        for row in self.state:\n",
    "            for element in row:\n",
    "                output += element + ' '\n",
    "        \n",
    "        return output\n",
    "\n",
    "    def _count(self, player):\n",
    "        # count cells of player\n",
    "        return sum([sum([element == player for element in row]) for row in self.state])\n",
    "\n",
    "    def to_move(self, state):\n",
    "        cell_count = {}\n",
    "        cell_count[self.player_max] = self._count(self.player_max)\n",
    "        cell_count[self.player_min] = self._count(self.player_min)\n",
    "        cell_count[self.player_none] = self._count(self.player_none)\n",
    "\n",
    "        # determine which player makes the first move\n",
    "        first_move_player = self.player_max\n",
    "        second_move_player = self.player_min\n",
    "        if cell_count[first_move_player] <= cell_count[second_move_player]:\n",
    "            player_to_move = first_move_player\n",
    "        else:\n",
    "            player_to_move = second_move_player\n",
    "\n",
    "        return player_to_move\n",
    "    \n",
    "    def is_terminal(self, state):\n",
    "        return True or False\n",
    "    \n",
    "    def actions(self, state):\n",
    "        return [action, action]\n",
    "    \n",
    "    def result(self, state, a):\n",
    "        return state\n",
    "    \n",
    "    def utility(self, state, player):\n",
    "        return -1 or 0 or 1"
   ]
  }
 ],
 "metadata": {
  "kernelspec": {
   "display_name": "Python 3",
   "language": "python",
   "name": "python3"
  },
  "language_info": {
   "codemirror_mode": {
    "name": "ipython",
    "version": 3
   },
   "file_extension": ".py",
   "mimetype": "text/x-python",
   "name": "python",
   "nbconvert_exporter": "python",
   "pygments_lexer": "ipython3",
   "version": "3.11.0 (main, Oct 24 2022, 18:26:48) [MSC v.1933 64 bit (AMD64)]"
  },
  "orig_nbformat": 4,
  "vscode": {
   "interpreter": {
    "hash": "a08771961f4b74f79656a974d6119f144c3644f26754cfc2aab5f8ba104e64b8"
   }
  }
 },
 "nbformat": 4,
 "nbformat_minor": 2
}
