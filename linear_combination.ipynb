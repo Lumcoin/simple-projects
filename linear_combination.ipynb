{
 "cells": [
  {
   "cell_type": "code",
   "execution_count": 7,
   "metadata": {},
   "outputs": [
    {
     "name": "stdout",
     "output_type": "stream",
     "text": [
      "Coefficients: [0.16196247 0.5587963  0.95562991]\n",
      "Combined vector: [ 9.08655701 10.76294568 12.43933435]\n",
      "Distance: 1.040955100905199\n"
     ]
    }
   ],
   "source": [
    "import numpy as np\n",
    "\n",
    "# Define the vectors and the point\n",
    "vectors = np.array([[1, 2, 3], [4, 5, 6], [7, 8, 9]])\n",
    "point = np.array([10, 11, 12])\n",
    "\n",
    "# Define the loss function as the Euclidean distance between the combined vector and the point\n",
    "def loss_function(coefficients):\n",
    "    if min(coefficients) < 0:\n",
    "        return 10000\n",
    "    \n",
    "    combined_vector = np.dot(coefficients, vectors)\n",
    "    distance = np.linalg.norm(combined_vector - point)\n",
    "    return distance\n",
    "\n",
    "# Minimize the loss function using scipy.optimize.minimize\n",
    "from scipy.optimize import minimize\n",
    "initial_guess = np.ones(len(vectors))\n",
    "result = minimize(loss_function, initial_guess)\n",
    "\n",
    "# The coefficients of the linear combination that minimizes the loss function\n",
    "coefficients = result.x\n",
    "print(\"Coefficients:\", coefficients)\n",
    "\n",
    "# The combined vector that minimizes the loss function\n",
    "combined_vector = np.dot(coefficients, vectors)\n",
    "print(\"Combined vector:\", combined_vector)\n",
    "\n",
    "# The distance between the combined vector and the point\n",
    "distance = np.linalg.norm(combined_vector - point)\n",
    "print(\"Distance:\", distance)"
   ]
  }
 ],
 "metadata": {
  "kernelspec": {
   "display_name": "simple-projects",
   "language": "python",
   "name": "python3"
  },
  "language_info": {
   "codemirror_mode": {
    "name": "ipython",
    "version": 3
   },
   "file_extension": ".py",
   "mimetype": "text/x-python",
   "name": "python",
   "nbconvert_exporter": "python",
   "pygments_lexer": "ipython3",
   "version": "3.9.16"
  },
  "orig_nbformat": 4
 },
 "nbformat": 4,
 "nbformat_minor": 2
}
